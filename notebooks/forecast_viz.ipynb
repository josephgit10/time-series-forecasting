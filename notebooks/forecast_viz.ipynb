{
 "cells": [
  {
   "cell_type": "code",
   "execution_count": 1,
   "id": "26f3ef76",
   "metadata": {},
   "outputs": [
    {
     "name": "stdout",
     "output_type": "stream",
     "text": [
      "Requirement already satisfied: pandas in c:\\users\\airjo\\desktop\\coding\\time-series forecasting for supply chain logistics\\forecasting_env\\lib\\site-packages (2.2.3)\n",
      "Requirement already satisfied: plotly in c:\\users\\airjo\\desktop\\coding\\time-series forecasting for supply chain logistics\\forecasting_env\\lib\\site-packages (6.1.2)\n",
      "Requirement already satisfied: nbformat in c:\\users\\airjo\\desktop\\coding\\time-series forecasting for supply chain logistics\\forecasting_env\\lib\\site-packages (5.10.4)\n",
      "Requirement already satisfied: numpy>=1.23.2 in c:\\users\\airjo\\desktop\\coding\\time-series forecasting for supply chain logistics\\forecasting_env\\lib\\site-packages (from pandas) (2.1.3)\n",
      "Requirement already satisfied: python-dateutil>=2.8.2 in c:\\users\\airjo\\desktop\\coding\\time-series forecasting for supply chain logistics\\forecasting_env\\lib\\site-packages (from pandas) (2.9.0.post0)\n",
      "Requirement already satisfied: pytz>=2020.1 in c:\\users\\airjo\\desktop\\coding\\time-series forecasting for supply chain logistics\\forecasting_env\\lib\\site-packages (from pandas) (2025.2)\n",
      "Requirement already satisfied: tzdata>=2022.7 in c:\\users\\airjo\\desktop\\coding\\time-series forecasting for supply chain logistics\\forecasting_env\\lib\\site-packages (from pandas) (2025.2)\n",
      "Requirement already satisfied: narwhals>=1.15.1 in c:\\users\\airjo\\desktop\\coding\\time-series forecasting for supply chain logistics\\forecasting_env\\lib\\site-packages (from plotly) (1.41.1)\n",
      "Requirement already satisfied: packaging in c:\\users\\airjo\\desktop\\coding\\time-series forecasting for supply chain logistics\\forecasting_env\\lib\\site-packages (from plotly) (24.2)\n",
      "Requirement already satisfied: fastjsonschema>=2.15 in c:\\users\\airjo\\desktop\\coding\\time-series forecasting for supply chain logistics\\forecasting_env\\lib\\site-packages (from nbformat) (2.21.1)\n",
      "Requirement already satisfied: jsonschema>=2.6 in c:\\users\\airjo\\desktop\\coding\\time-series forecasting for supply chain logistics\\forecasting_env\\lib\\site-packages (from nbformat) (4.24.0)\n",
      "Requirement already satisfied: jupyter-core!=5.0.*,>=4.12 in c:\\users\\airjo\\desktop\\coding\\time-series forecasting for supply chain logistics\\forecasting_env\\lib\\site-packages (from nbformat) (5.8.1)\n",
      "Requirement already satisfied: traitlets>=5.1 in c:\\users\\airjo\\desktop\\coding\\time-series forecasting for supply chain logistics\\forecasting_env\\lib\\site-packages (from nbformat) (5.14.3)\n",
      "Requirement already satisfied: attrs>=22.2.0 in c:\\users\\airjo\\desktop\\coding\\time-series forecasting for supply chain logistics\\forecasting_env\\lib\\site-packages (from jsonschema>=2.6->nbformat) (25.3.0)\n",
      "Requirement already satisfied: jsonschema-specifications>=2023.03.6 in c:\\users\\airjo\\desktop\\coding\\time-series forecasting for supply chain logistics\\forecasting_env\\lib\\site-packages (from jsonschema>=2.6->nbformat) (2025.4.1)\n",
      "Requirement already satisfied: referencing>=0.28.4 in c:\\users\\airjo\\desktop\\coding\\time-series forecasting for supply chain logistics\\forecasting_env\\lib\\site-packages (from jsonschema>=2.6->nbformat) (0.36.2)\n",
      "Requirement already satisfied: rpds-py>=0.7.1 in c:\\users\\airjo\\desktop\\coding\\time-series forecasting for supply chain logistics\\forecasting_env\\lib\\site-packages (from jsonschema>=2.6->nbformat) (0.25.1)\n",
      "Requirement already satisfied: platformdirs>=2.5 in c:\\users\\airjo\\desktop\\coding\\time-series forecasting for supply chain logistics\\forecasting_env\\lib\\site-packages (from jupyter-core!=5.0.*,>=4.12->nbformat) (4.3.8)\n",
      "Requirement already satisfied: pywin32>=300 in c:\\users\\airjo\\desktop\\coding\\time-series forecasting for supply chain logistics\\forecasting_env\\lib\\site-packages (from jupyter-core!=5.0.*,>=4.12->nbformat) (310)\n",
      "Requirement already satisfied: six>=1.5 in c:\\users\\airjo\\desktop\\coding\\time-series forecasting for supply chain logistics\\forecasting_env\\lib\\site-packages (from python-dateutil>=2.8.2->pandas) (1.17.0)\n",
      "Requirement already satisfied: typing-extensions>=4.4.0 in c:\\users\\airjo\\desktop\\coding\\time-series forecasting for supply chain logistics\\forecasting_env\\lib\\site-packages (from referencing>=0.28.4->jsonschema>=2.6->nbformat) (4.14.0)\n",
      "Note: you may need to restart the kernel to use updated packages.\n"
     ]
    },
    {
     "name": "stderr",
     "output_type": "stream",
     "text": [
      "\n",
      "[notice] A new release of pip available: 22.3.1 -> 25.1.1\n",
      "[notice] To update, run: python.exe -m pip install --upgrade pip\n"
     ]
    }
   ],
   "source": [
    "pip install pandas plotly nbformat"
   ]
  },
  {
   "cell_type": "code",
   "execution_count": 2,
   "id": "32ffbc26",
   "metadata": {},
   "outputs": [],
   "source": [
    "import pandas as pd\n",
    "from pathlib import Path"
   ]
  },
  {
   "cell_type": "code",
   "execution_count": 3,
   "id": "5db642c1",
   "metadata": {},
   "outputs": [],
   "source": [
    "actuals_path   = \"C:\\\\Users\\\\airjo\\\\Desktop\\\\Coding\\\\Time-Series Forecasting for Supply Chain Logistics\\\\data\\\\processed\\\\merged_data.csv\"\n",
    "forecast_path  = \"C:\\\\Users\\\\airjo\\\\Desktop\\\\Coding\\\\Time-Series Forecasting for Supply Chain Logistics\\\\data\\\\processed\\\\forecast_results.csv\""
   ]
  },
  {
   "cell_type": "code",
   "execution_count": 4,
   "id": "1e6b2952",
   "metadata": {},
   "outputs": [],
   "source": [
    "actuals = pd.read_csv(actuals_path, parse_dates=[\"Date\"])\n",
    "forecast = pd.read_csv(forecast_path, parse_dates=[\"ds\"])"
   ]
  },
  {
   "cell_type": "code",
   "execution_count": 5,
   "id": "392c2aaa",
   "metadata": {},
   "outputs": [],
   "source": [
    "actuals = actuals.rename(columns={\"Date\": \"ds\", \"Weekly_Sales\": \"actual_sales\"})\n",
    "forecast = forecast.rename(columns={\"yhat\": \"forecast_sales\"})"
   ]
  },
  {
   "cell_type": "code",
   "execution_count": 6,
   "id": "dfe68bd9",
   "metadata": {},
   "outputs": [],
   "source": [
    "df = pd.merge(\n",
    "    actuals[[\"Store\", \"ds\", \"actual_sales\"]],\n",
    "    forecast[[\"Store\", \"ds\", \"forecast_sales\"]],\n",
    "    on=[\"Store\", \"ds\"],\n",
    "    how=\"inner\",\n",
    ")"
   ]
  },
  {
   "cell_type": "code",
   "execution_count": 7,
   "id": "8292cde5",
   "metadata": {},
   "outputs": [],
   "source": [
    "df[\"abs_error\"] = (df[\"actual_sales\"] - df[\"forecast_sales\"]).abs()\n",
    "df[\"pct_error\"] = df[\"abs_error\"] / df[\"actual_sales\"] * 100"
   ]
  },
  {
   "cell_type": "code",
   "execution_count": 8,
   "id": "95c1a05a",
   "metadata": {},
   "outputs": [
    {
     "data": {
      "text/plain": [
       "(Timestamp('2010-02-05 00:00:00'), Timestamp('2012-10-26 00:00:00'))"
      ]
     },
     "execution_count": 8,
     "metadata": {},
     "output_type": "execute_result"
    }
   ],
   "source": [
    "df.head()\n",
    "df.Store.unique()     # list of store IDs\n",
    "df.ds.min(), df.ds.max()"
   ]
  },
  {
   "cell_type": "code",
   "execution_count": 9,
   "id": "a76f833f",
   "metadata": {},
   "outputs": [],
   "source": [
    "import plotly.express as px"
   ]
  },
  {
   "cell_type": "code",
   "execution_count": 10,
   "id": "f4009e95",
   "metadata": {},
   "outputs": [],
   "source": [
    "df_melted = df.melt(\n",
    "    id_vars=[\"Store\", \"ds\"], \n",
    "    value_vars=[\"actual_sales\", \"forecast_sales\"],\n",
    "    var_name=\"kind\", \n",
    "    value_name=\"sales\",\n",
    ")"
   ]
  },
  {
   "cell_type": "code",
   "execution_count": null,
   "id": "e815a956",
   "metadata": {},
   "outputs": [],
   "source": [
    "import plotly.express as px\n",
    "\n",
    "# 1. Create a “master” DataFrame with a “kind” column for stacking actual vs forecast\n",
    "df_melted = df.melt(\n",
    "    id_vars=[\"Store\", \"ds\"], \n",
    "    value_vars=[\"actual_sales\", \"forecast_sales\"],\n",
    "    var_name=\"kind\", \n",
    "    value_name=\"sales\",\n",
    ")\n",
    "# Now df_melted has rows like:\n",
    "# | Store | ds         | kind            | sales |\n",
    "# | 1     | 2010-02-05 | actual_sales    | 1500000 |\n",
    "# | 1     | 2010-02-05 | forecast_sales  | 1523000 |\n",
    "# | …     | …          | …               | …       |\n",
    "\n",
    "# 2. Create a line chart with Plotly Express\n",
    "fig1 = px.line(\n",
    "    df_melted,\n",
    "    x=\"ds\",\n",
    "    y=\"sales\",\n",
    "    color=\"kind\",\n",
    "    facet_col=None,\n",
    "    facet_row=None,\n",
    "    line_dash=\"kind\",   # optional: differentiate lines by dash style\n",
    "    labels={\n",
    "        \"ds\": \"Week (Date)\",\n",
    "        \"sales\": \"Sales ($)\",\n",
    "        \"kind\": \"Series\"\n",
    "    },\n",
    "    title=\"Actual vs. Forecast: Weekly Sales for All Stores\",\n",
    "    hover_data={\"Store\": True, \"kind\": True},\n",
    ")\n",
    "\n",
    "# 3. Add a dropdown so we can filter by Store\n",
    "fig1.update_layout(\n",
    "    updatemenus=[{\n",
    "        \"buttons\": [\n",
    "            {\n",
    "                \"method\": \"update\",\n",
    "                \"label\": f\"Store {s}\",\n",
    "                \"args\": [\n",
    "                    {\"visible\": df_melted[\"Store\"] == s},\n",
    "                    {\"title\": f\"Actual vs. Forecast Sales (Store {s})\"}\n",
    "                ],\n",
    "            }\n",
    "            for s in sorted(df_melted[\"Store\"].unique())\n",
    "        ],\n",
    "        \"direction\": \"down\",\n",
    "        \"pad\": {\"r\": 10, \"t\": 10},\n",
    "        \"showactive\": True,\n",
    "        \"x\": 0.1,\n",
    "        \"xanchor\": \"left\",\n",
    "        \"y\": 1.15,\n",
    "        \"yanchor\": \"top\",\n",
    "    }]\n",
    ")\n",
    "\n",
    "# 4. Style: put actual_sales as a solid line, forecast_sales as dashed line\n",
    "fig1.update_traces(\n",
    "    selector=dict(name=\"actual_sales\"),\n",
    "    line=dict(color=\"royalblue\", width=3, dash=\"solid\")\n",
    ")\n",
    "fig1.update_traces(\n",
    "    selector=dict(name=\"forecast_sales\"),\n",
    "    line=dict(color=\"darkorange\", width=3, dash=\"dash\")\n",
    ")"
   ]
  },
  {
   "cell_type": "code",
   "execution_count": null,
   "id": "45d979ef",
   "metadata": {},
   "outputs": [],
   "source": [
    "fig1.show()"
   ]
  },
  {
   "cell_type": "code",
   "execution_count": null,
   "id": "f7b787c9",
   "metadata": {},
   "outputs": [],
   "source": [
    "# 1. Compute MAE per store\n",
    "mae_by_store = (\n",
    "    df.groupby(\"Store\")[\"abs_error\"]\n",
    "      .mean()\n",
    "      .reset_index()\n",
    "      .rename(columns={\"abs_error\": \"MAE\"})\n",
    ")\n",
    "\n",
    "# 2. Sort stores descending by MAE\n",
    "mae_by_store = mae_by_store.sort_values(\"MAE\", ascending=False)\n",
    "\n",
    "# 3. Bar chart with Plotly Express\n",
    "fig2 = px.bar(\n",
    "    mae_by_store,\n",
    "    x=\"Store\",\n",
    "    y=\"MAE\",\n",
    "    color=\"MAE\", \n",
    "    color_continuous_scale=\"Reds\",\n",
    "    labels={\"MAE\": \"Mean Absolute Error\", \"Store\": \"Store ID\"},\n",
    "    title=\"Average Absolute Forecast Error (MAE) by Store\",\n",
    ")\n",
    "\n",
    "# 4. Add hover text showing error in dollars and percentage\n",
    "# We'll merge a pct_error_by_store for extra info\n",
    "pct_err = (\n",
    "    df.groupby(\"Store\")[\"pct_error\"]\n",
    "      .mean()\n",
    "      .reset_index()\n",
    "      .rename(columns={\"pct_error\": \"AvgPctError\"})\n",
    ")\n",
    "mae_by_store = mae_by_store.merge(pct_err, on=\"Store\")\n",
    "\n",
    "fig2 = px.bar(\n",
    "    mae_by_store,\n",
    "    x=\"Store\",\n",
    "    y=\"MAE\",\n",
    "    color=\"MAE\",\n",
    "    color_continuous_scale=\"Reds\",\n",
    "    labels={\"MAE\": \"MAE ($)\", \"Store\": \"Store ID\"},\n",
    "    title=\"Average Absolute Forecast Error (MAE) by Store\",\n",
    "    hover_data={\n",
    "        \"MAE\": \":,.0f\",          # show MAE with comma separators\n",
    "        \"AvgPctError\": \":.2f\"    # show AvgPctError as percentage with 2 decimals\n",
    "    },\n",
    ")\n",
    "fig2.update_layout(coloraxis_showscale=False)\n",
    "fig2.show()\n"
   ]
  },
  {
   "cell_type": "code",
   "execution_count": null,
   "id": "e0d01517",
   "metadata": {},
   "outputs": [],
   "source": [
    "# 1. Add a week number column\n",
    "df[\"week_of_year\"] = df[\"ds\"].dt.isocalendar().week.astype(int)  # ISO week (1–52)\n",
    "\n",
    "# 2. Pivot to create a matrix (Store × week) of abs_error\n",
    "heatmap_df = df.pivot_table(\n",
    "    index=\"Store\", \n",
    "    columns=\"week_of_year\", \n",
    "    values=\"abs_error\", \n",
    "    aggfunc=\"mean\",   # each store-week should already be unique; mean is just a formality\n",
    "    fill_value=0\n",
    ")\n",
    "\n",
    "# 3. Convert the pivot to “long” form for Plotly\n",
    "heatmap_long = heatmap_df.reset_index().melt(\n",
    "    id_vars=\"Store\", \n",
    "    var_name=\"Week\", \n",
    "    value_name=\"AbsError\"\n",
    ")\n",
    "\n",
    "# 4. Plotly Express heatmap\n",
    "fig3 = px.density_heatmap(\n",
    "    heatmap_long,\n",
    "    x=\"Week\",\n",
    "    y=\"Store\",\n",
    "    z=\"AbsError\",\n",
    "    color_continuous_scale=\"OrRd\",\n",
    "    labels={\"AbsError\": \"Absolute Error ($)\", \"Store\": \"Store ID\"},\n",
    "    title=\"Weekly Absolute Forecast Error by Store (Heatmap)\",\n",
    ")\n",
    "\n",
    "# 5. Style axes\n",
    "fig3.update_xaxes(dtick=4)  # show tick every 4 weeks\n",
    "fig3.update_yaxes(autorange=\"reversed\")  # show store 1 at top (optional)\n",
    "\n",
    "fig3.show()\n"
   ]
  }
 ],
 "metadata": {
  "kernelspec": {
   "display_name": "forecasting_env",
   "language": "python",
   "name": "python3"
  },
  "language_info": {
   "codemirror_mode": {
    "name": "ipython",
    "version": 3
   },
   "file_extension": ".py",
   "mimetype": "text/x-python",
   "name": "python",
   "nbconvert_exporter": "python",
   "pygments_lexer": "ipython3",
   "version": "3.11.2"
  }
 },
 "nbformat": 4,
 "nbformat_minor": 5
}
