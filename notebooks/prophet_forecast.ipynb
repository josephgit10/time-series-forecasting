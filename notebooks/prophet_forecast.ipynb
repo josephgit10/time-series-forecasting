{
 "cells": [
  {
   "cell_type": "markdown",
   "id": "e0fdbe97",
   "metadata": {},
   "source": [
    "Data Loading and preparation"
   ]
  },
  {
   "cell_type": "code",
   "execution_count": null,
   "id": "9a40d0b8",
   "metadata": {},
   "outputs": [],
   "source": [
    "import pandas as pd\n",
    "df = pd.read_csv('/app/data/processed/merged_data.csv', parse_dates=['Date'])\n",
    "store_df = df[df['Store'] == 1]"
   ]
  },
  {
   "cell_type": "markdown",
   "id": "5ae1191e",
   "metadata": {},
   "source": [
    "Model Training"
   ]
  },
  {
   "cell_type": "code",
   "execution_count": null,
   "id": "51ba4606",
   "metadata": {},
   "outputs": [],
   "source": [
    "from prophet import Prophet\n",
    "\n",
    "prophet_df = store_df[['Date', 'Weekly_Sales']].rename(columns={'Date':'ds','Weekly_Sales':'y'})\n",
    "model = Prophet()\n",
    "model.fit(prophet_df)"
   ]
  },
  {
   "cell_type": "markdown",
   "id": "03dead1e",
   "metadata": {},
   "source": [
    "Forecasting"
   ]
  },
  {
   "cell_type": "code",
   "execution_count": null,
   "id": "a4efc854",
   "metadata": {},
   "outputs": [],
   "source": [
    "future = model.make_future_dataframe(periods=52, freq='W')\n",
    "forecast = model.predict(future)"
   ]
  },
  {
   "cell_type": "markdown",
   "id": "0d84a5a7",
   "metadata": {},
   "source": [
    "Predictions and Evaluation"
   ]
  },
  {
   "cell_type": "code",
   "execution_count": null,
   "id": "af779ff9",
   "metadata": {},
   "outputs": [],
   "source": [
    "future = model.make_future_dataframe(periods=len(test_df), freq='W')\n",
    "forecast = model.predict(future)"
   ]
  },
  {
   "cell_type": "code",
   "execution_count": null,
   "id": "0c4dfe8f",
   "metadata": {},
   "outputs": [],
   "source": [
    "y_true = test_df['y'].values\n",
    "y_pred = forecast.iloc[-len(test_df):]['yhat'].values\n",
    "\n",
    "rmse = np.sqrt(mean_squared_error(y_true, y_pred))\n",
    "mae = mean_absolute_error(y_true, y_pred)\n",
    "\n",
    "print(f'Prophet RMSE: {rmse}')\n",
    "print(f'Prophet MAE: {mae}')"
   ]
  },
  {
   "cell_type": "markdown",
   "id": "a8da46dd",
   "metadata": {},
   "source": [
    "Visualizations"
   ]
  },
  {
   "cell_type": "code",
   "execution_count": null,
   "id": "19621a89",
   "metadata": {},
   "outputs": [],
   "source": [
    "import matplotlib.pyplot as plt\n",
    "\n",
    "plt.figure(figsize=(12,6))\n",
    "plt.plot(train_df['ds'], train_df['y'], label='Train')\n",
    "plt.plot(test_df['ds'], y_true, label='Actual', color='green')\n",
    "plt.plot(test_df['ds'], y_pred, label='Predicted', color='red')\n",
    "plt.title('Prophet Model Forecast vs Actual Sales')\n",
    "plt.xlabel('Date')\n",
    "plt.ylabel('Weekly Sales')\n",
    "plt.legend()\n",
    "plt.grid()\n",
    "plt.show()"
   ]
  }
 ],
 "metadata": {
  "language_info": {
   "name": "python"
  }
 },
 "nbformat": 4,
 "nbformat_minor": 5
}
