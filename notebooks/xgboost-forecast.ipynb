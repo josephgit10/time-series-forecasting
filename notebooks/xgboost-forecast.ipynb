{
 "cells": [
  {
   "cell_type": "markdown",
   "id": "47ed82a9",
   "metadata": {},
   "source": [
    "Data Loading and preparation"
   ]
  },
  {
   "cell_type": "code",
   "execution_count": null,
   "id": "784d7e02",
   "metadata": {},
   "outputs": [],
   "source": [
    "import pandas as pd\n",
    "df = pd.read_csv('/app/data/processed/merged_data.csv')\n",
    "store_df = df[df['Store'] == 1]"
   ]
  },
  {
   "cell_type": "markdown",
   "id": "bf3ec757",
   "metadata": {},
   "source": [
    "Train-Test Split"
   ]
  },
  {
   "cell_type": "code",
   "execution_count": null,
   "id": "629daf04",
   "metadata": {},
   "outputs": [],
   "source": [
    "train_df = store_df[store_df['Date'] < '2012-01-01']\n",
    "test_df = store_df[store_df['Date'] >= '2012-01-01']\n",
    "\n",
    "X_train = train_df[['Lag_1','Rolling_Mean_4','Fuel_Price','CPI','Unemployment']]\n",
    "y_train = train_df['Weekly_Sales']"
   ]
  },
  {
   "cell_type": "markdown",
   "id": "0a02b398",
   "metadata": {},
   "source": [
    "Model Training"
   ]
  },
  {
   "cell_type": "code",
   "execution_count": null,
   "id": "85e82e3c",
   "metadata": {},
   "outputs": [],
   "source": [
    "import xgboost as xgb\n",
    "model = xgb.XGBRegressor()\n",
    "model.fit(X_train, y_train)"
   ]
  },
  {
   "cell_type": "markdown",
   "id": "3ecb1397",
   "metadata": {},
   "source": [
    "Predictions and Evaluations"
   ]
  },
  {
   "cell_type": "code",
   "execution_count": null,
   "id": "f7ed92b8",
   "metadata": {},
   "outputs": [],
   "source": [
    "y_pred = model.predict(X_test)"
   ]
  },
  {
   "cell_type": "code",
   "execution_count": null,
   "id": "aa88181f",
   "metadata": {},
   "outputs": [
    {
     "ename": "NameError",
     "evalue": "name 'np' is not defined",
     "output_type": "error",
     "traceback": [
      "\u001b[31m---------------------------------------------------------------------------\u001b[39m",
      "\u001b[31mNameError\u001b[39m                                 Traceback (most recent call last)",
      "\u001b[36mCell\u001b[39m\u001b[36m \u001b[39m\u001b[32mIn[1]\u001b[39m\u001b[32m, line 1\u001b[39m\n\u001b[32m----> \u001b[39m\u001b[32m1\u001b[39m rmse = \u001b[43mnp\u001b[49m.sqrt(mean_squared_error(y_test, y_pred))\n\u001b[32m      2\u001b[39m mae = mean_absolute_error(y_test, y_pred)\n",
      "\u001b[31mNameError\u001b[39m: name 'np' is not defined"
     ]
    }
   ],
   "source": [
    "rmse = np.sqrt(mean_squared_error(y_test, y_pred))\n",
    "mae = mean_absolute_error(y_test, y_pred)\n",
    "\n",
    "print(f'XGBoost RMSE: {rmse}')\n",
    "print(f'XGBoost MAE: {mae}')"
   ]
  },
  {
   "cell_type": "markdown",
   "id": "69c112da",
   "metadata": {},
   "source": [
    "Visualization"
   ]
  },
  {
   "cell_type": "code",
   "execution_count": null,
   "id": "c86b0719",
   "metadata": {},
   "outputs": [],
   "source": [
    "plt.figure(figsize=(12,6))\n",
    "plt.plot(test_df['Date'], y_test, label='Actual', color='green')\n",
    "plt.plot(test_df['Date'], y_pred, label='Predicted', color='red')\n",
    "plt.title('XGBoost Model Forecast vs Actual Sales')\n",
    "plt.xlabel('Date')\n",
    "plt.ylabel('Weekly Sales')\n",
    "plt.legend()\n",
    "plt.grid()\n",
    "plt.show()"
   ]
  }
 ],
 "metadata": {
  "kernelspec": {
   "display_name": "forecasting_env",
   "language": "python",
   "name": "python3"
  },
  "language_info": {
   "codemirror_mode": {
    "name": "ipython",
    "version": 3
   },
   "file_extension": ".py",
   "mimetype": "text/x-python",
   "name": "python",
   "nbconvert_exporter": "python",
   "pygments_lexer": "ipython3",
   "version": "3.11.2"
  }
 },
 "nbformat": 4,
 "nbformat_minor": 5
}
