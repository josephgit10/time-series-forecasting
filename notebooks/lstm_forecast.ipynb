{
 "cells": [
  {
   "cell_type": "markdown",
   "id": "6b87d6e0",
   "metadata": {},
   "source": [
    "Data Preparation"
   ]
  },
  {
   "cell_type": "code",
   "execution_count": null,
   "id": "ed92ea5e",
   "metadata": {},
   "outputs": [],
   "source": [
    "import numpy as np\n",
    "import pandas as pd\n",
    "df = pd.read_csv('/app/data/processed/merged_data.csv')\n",
    "store_df = df[df['Store'] == 1]"
   ]
  },
  {
   "cell_type": "markdown",
   "id": "10201607",
   "metadata": {},
   "source": [
    "Creating Sequences for LSTM"
   ]
  },
  {
   "cell_type": "markdown",
   "id": "be9bf45b",
   "metadata": {},
   "source": [
    "def create_sequences(data, seq_length=4):\n",
    "    sequences, targets = [], []\n",
    "    for i in range(len(data) - seq_length):\n",
    "        sequences.append(data[i:i+seq_length])\n",
    "        targets.append(data[i+seq_length])\n",
    "    return np.array(sequences), np.array(targets)\n",
    "\n",
    "sales_values = store_df['Weekly_Sales'].values\n",
    "X, y = create_sequences(sales_values)\n",
    "X = X.reshape(X.shape[0], X.shape[1], 1)"
   ]
  },
  {
   "cell_type": "markdown",
   "id": "79d2b71a",
   "metadata": {},
   "source": [
    "LSTM Model Building and Training"
   ]
  },
  {
   "cell_type": "code",
   "execution_count": null,
   "id": "fbdc0d91",
   "metadata": {},
   "outputs": [],
   "source": [
    "from keras.models import Sequential\n",
    "from keras.layers import LSTM, Dense\n",
    "\n",
    "model = Sequential()\n",
    "model.add(LSTM(64, activation='relu', input_shape=(X.shape[1], X.shape[2])))\n",
    "model.add(Dense(1))\n",
    "model.compile(loss='mse', optimizer='adam')\n",
    "\n",
    "model.fit(X, y, epochs=30)"
   ]
  },
  {
   "cell_type": "markdown",
   "id": "15ed296b",
   "metadata": {},
   "source": [
    "Prediction and Evaluation"
   ]
  },
  {
   "cell_type": "code",
   "execution_count": null,
   "id": "c6bf4846",
   "metadata": {},
   "outputs": [],
   "source": [
    "y_pred = model.predict(X_test).flatten()"
   ]
  },
  {
   "cell_type": "code",
   "execution_count": null,
   "id": "1d82ddc5",
   "metadata": {},
   "outputs": [],
   "source": [
    "rmse = np.sqrt(mean_squared_error(y_test, y_pred))\n",
    "mae = mean_absolute_error(y_test, y_pred)\n",
    "\n",
    "print(f'LSTM RMSE: {rmse}')\n",
    "print(f'LSTM MAE: {mae}')"
   ]
  },
  {
   "cell_type": "markdown",
   "id": "e6534259",
   "metadata": {},
   "source": [
    "Visualization"
   ]
  },
  {
   "cell_type": "code",
   "execution_count": null,
   "id": "5de65b7e",
   "metadata": {},
   "outputs": [],
   "source": [
    "plt.figure(figsize=(12,6))\n",
    "plt.plot(range(len(y_test)), y_test, label='Actual', color='green')\n",
    "plt.plot(range(len(y_pred)), y_pred, label='Predicted', color='red')\n",
    "plt.title('LSTM Model Forecast vs Actual Sales')\n",
    "plt.xlabel('Weeks')\n",
    "plt.ylabel('Weekly Sales')\n",
    "plt.legend()\n",
    "plt.grid()\n",
    "plt.show()"
   ]
  }
 ],
 "metadata": {
  "kernelspec": {
   "display_name": "forecasting_env",
   "language": "python",
   "name": "python3"
  },
  "language_info": {
   "name": "python",
   "version": "3.11.2"
  }
 },
 "nbformat": 4,
 "nbformat_minor": 5
}
